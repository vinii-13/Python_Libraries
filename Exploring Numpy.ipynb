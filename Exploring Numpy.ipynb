{
 "cells": [
  {
   "cell_type": "markdown",
   "id": "97d8c7c4",
   "metadata": {},
   "source": [
    "# Pandas"
   ]
  },
  {
   "cell_type": "markdown",
   "id": "405cc29b",
   "metadata": {},
   "source": [
    "numpy is a multi-dimetional array library. i.e. we can store all sorts of arrays in it like 2d, 3d, 4d etc. The reason why we prefer numpy over lists is that numpy is faster, uses lesser space, can perform multiple functions on arrays and it is widely used like in ML, backend etc."
   ]
  },
  {
   "cell_type": "markdown",
   "id": "4c433faa",
   "metadata": {},
   "source": [
    "# Importing Numpy"
   ]
  },
  {
   "cell_type": "code",
   "execution_count": 1,
   "id": "2dd82557",
   "metadata": {},
   "outputs": [],
   "source": [
    "import numpy as np"
   ]
  },
  {
   "cell_type": "markdown",
   "id": "3fb1f0eb",
   "metadata": {},
   "source": [
    "# Initializing an array"
   ]
  },
  {
   "cell_type": "code",
   "execution_count": 19,
   "id": "2e0862d6",
   "metadata": {},
   "outputs": [
    {
     "name": "stdout",
     "output_type": "stream",
     "text": [
      "[1 2 3]\n"
     ]
    }
   ],
   "source": [
    "a = np.array([1,2,3], dtype = 'int16')\n",
    "print(a)"
   ]
  },
  {
   "cell_type": "code",
   "execution_count": 9,
   "id": "f0a39f56",
   "metadata": {
    "scrolled": true
   },
   "outputs": [
    {
     "name": "stdout",
     "output_type": "stream",
     "text": [
      "[[1 2 3 4 5]\n",
      " [2 3 4 5 6]\n",
      " [1 3 2 3 2]]\n"
     ]
    }
   ],
   "source": [
    "b = np.array([[1,2,3,4,5,],[2,3,4,5,6],[1,3,2,3,2]])\n",
    "print(b)"
   ]
  },
  {
   "cell_type": "markdown",
   "id": "f79a25af",
   "metadata": {},
   "source": [
    "### Getting array dimentions"
   ]
  },
  {
   "cell_type": "code",
   "execution_count": 10,
   "id": "5b693740",
   "metadata": {},
   "outputs": [
    {
     "data": {
      "text/plain": [
       "1"
      ]
     },
     "execution_count": 10,
     "metadata": {},
     "output_type": "execute_result"
    }
   ],
   "source": [
    "a.ndim"
   ]
  },
  {
   "cell_type": "code",
   "execution_count": 11,
   "id": "b376995e",
   "metadata": {},
   "outputs": [
    {
     "data": {
      "text/plain": [
       "2"
      ]
     },
     "execution_count": 11,
     "metadata": {},
     "output_type": "execute_result"
    }
   ],
   "source": [
    "b.ndim"
   ]
  },
  {
   "cell_type": "markdown",
   "id": "241a33cd",
   "metadata": {},
   "source": [
    "### Get shape of array (rows,col)"
   ]
  },
  {
   "cell_type": "code",
   "execution_count": 12,
   "id": "66e8fd16",
   "metadata": {},
   "outputs": [
    {
     "data": {
      "text/plain": [
       "(3,)"
      ]
     },
     "execution_count": 12,
     "metadata": {},
     "output_type": "execute_result"
    }
   ],
   "source": [
    "a.shape"
   ]
  },
  {
   "cell_type": "code",
   "execution_count": 13,
   "id": "4ffc762d",
   "metadata": {},
   "outputs": [
    {
     "data": {
      "text/plain": [
       "(3, 5)"
      ]
     },
     "execution_count": 13,
     "metadata": {},
     "output_type": "execute_result"
    }
   ],
   "source": [
    "b.shape"
   ]
  },
  {
   "cell_type": "markdown",
   "id": "16b0d58d",
   "metadata": {},
   "source": [
    "## Getting data type"
   ]
  },
  {
   "cell_type": "code",
   "execution_count": 20,
   "id": "dc8ba8ac",
   "metadata": {},
   "outputs": [
    {
     "data": {
      "text/plain": [
       "dtype('int16')"
      ]
     },
     "execution_count": 20,
     "metadata": {},
     "output_type": "execute_result"
    }
   ],
   "source": [
    "a.dtype"
   ]
  },
  {
   "cell_type": "code",
   "execution_count": 25,
   "id": "9098c03f",
   "metadata": {},
   "outputs": [
    {
     "data": {
      "text/plain": [
       "3"
      ]
     },
     "execution_count": 25,
     "metadata": {},
     "output_type": "execute_result"
    }
   ],
   "source": [
    "# getting total number of elements (3 elements in this case)\n",
    "a.size"
   ]
  },
  {
   "cell_type": "code",
   "execution_count": 26,
   "id": "a0565cb3",
   "metadata": {},
   "outputs": [
    {
     "data": {
      "text/plain": [
       "2"
      ]
     },
     "execution_count": 26,
     "metadata": {},
     "output_type": "execute_result"
    }
   ],
   "source": [
    "#num of bytes\n",
    "a.itemsize"
   ]
  },
  {
   "cell_type": "markdown",
   "id": "5afe8d2e",
   "metadata": {},
   "source": [
    "## Accessing/changing elements in an array"
   ]
  },
  {
   "cell_type": "code",
   "execution_count": 28,
   "id": "af2dace3",
   "metadata": {},
   "outputs": [
    {
     "name": "stdout",
     "output_type": "stream",
     "text": [
      "[[1 2 3 4 5 6 7]\n",
      " [2 3 4 5 6 7 8]]\n"
     ]
    }
   ],
   "source": [
    "a = np.array([[1,2,3,4,5,6,7],[2,3,4,5,6,7,8]])\n",
    "print(a)"
   ]
  },
  {
   "cell_type": "code",
   "execution_count": 29,
   "id": "ff8e6f64",
   "metadata": {},
   "outputs": [
    {
     "data": {
      "text/plain": [
       "(2, 7)"
      ]
     },
     "execution_count": 29,
     "metadata": {},
     "output_type": "execute_result"
    }
   ],
   "source": [
    "a.shape"
   ]
  },
  {
   "cell_type": "code",
   "execution_count": 34,
   "id": "1e57c7ca",
   "metadata": {},
   "outputs": [
    {
     "data": {
      "text/plain": [
       "8"
      ]
     },
     "execution_count": 34,
     "metadata": {},
     "output_type": "execute_result"
    }
   ],
   "source": [
    "#accessing the element '8' [row,col]\n",
    "#way 1\n",
    "a[1][6]"
   ]
  },
  {
   "cell_type": "code",
   "execution_count": 35,
   "id": "b32d829c",
   "metadata": {},
   "outputs": [
    {
     "data": {
      "text/plain": [
       "8"
      ]
     },
     "execution_count": 35,
     "metadata": {},
     "output_type": "execute_result"
    }
   ],
   "source": [
    "#way 2\n",
    "a[1][-1]"
   ]
  },
  {
   "cell_type": "markdown",
   "id": "05f33070",
   "metadata": {},
   "source": [
    "### getting all the elements of a specific row"
   ]
  },
  {
   "cell_type": "code",
   "execution_count": 36,
   "id": "798027d8",
   "metadata": {},
   "outputs": [
    {
     "data": {
      "text/plain": [
       "array([1, 2, 3, 4, 5, 6, 7])"
      ]
     },
     "execution_count": 36,
     "metadata": {},
     "output_type": "execute_result"
    }
   ],
   "source": [
    "a[0,:]"
   ]
  },
  {
   "cell_type": "markdown",
   "id": "76a823ee",
   "metadata": {},
   "source": [
    "### getting all elements of a specific column"
   ]
  },
  {
   "cell_type": "code",
   "execution_count": 37,
   "id": "327bafd1",
   "metadata": {},
   "outputs": [
    {
     "data": {
      "text/plain": [
       "array([5, 6])"
      ]
     },
     "execution_count": 37,
     "metadata": {},
     "output_type": "execute_result"
    }
   ],
   "source": [
    "a[:,4]"
   ]
  },
  {
   "cell_type": "markdown",
   "id": "72df6a34",
   "metadata": {},
   "source": [
    "### updating an element at a specific location"
   ]
  },
  {
   "cell_type": "code",
   "execution_count": 38,
   "id": "a3753e68",
   "metadata": {},
   "outputs": [
    {
     "data": {
      "text/plain": [
       "7"
      ]
     },
     "execution_count": 38,
     "metadata": {},
     "output_type": "execute_result"
    }
   ],
   "source": [
    "a[1,3] = 7\n",
    "a[1,3]"
   ]
  },
  {
   "cell_type": "code",
   "execution_count": 39,
   "id": "057fe30c",
   "metadata": {},
   "outputs": [
    {
     "name": "stdout",
     "output_type": "stream",
     "text": [
      "[[1 2 3 4 5 6 7]\n",
      " [2 3 4 7 6 7 8]]\n"
     ]
    }
   ],
   "source": [
    "print(a)"
   ]
  },
  {
   "cell_type": "code",
   "execution_count": 40,
   "id": "9627b769",
   "metadata": {},
   "outputs": [
    {
     "name": "stdout",
     "output_type": "stream",
     "text": [
      "[[ 1  2 99  4  5  6  7]\n",
      " [ 2  3 98  7  6  7  8]]\n"
     ]
    }
   ],
   "source": [
    "#updating multiple row in the same column\n",
    "a[:,2] = [99, 98]\n",
    "print(a)"
   ]
  },
  {
   "cell_type": "markdown",
   "id": "22afcd3f",
   "metadata": {},
   "source": [
    "#### 3d example"
   ]
  },
  {
   "cell_type": "code",
   "execution_count": 43,
   "id": "370a9fe3",
   "metadata": {},
   "outputs": [
    {
     "data": {
      "text/plain": [
       "array([[[1, 2],\n",
       "        [2, 3]],\n",
       "\n",
       "       [[3, 4],\n",
       "        [4, 5]]])"
      ]
     },
     "execution_count": 43,
     "metadata": {},
     "output_type": "execute_result"
    }
   ],
   "source": [
    "c = np.array([[[1,2],[2,3]], [[3,4],[4,5]]])\n",
    "c"
   ]
  },
  {
   "cell_type": "code",
   "execution_count": 44,
   "id": "3d267a3d",
   "metadata": {},
   "outputs": [
    {
     "data": {
      "text/plain": [
       "array([2, 3])"
      ]
     },
     "execution_count": 44,
     "metadata": {},
     "output_type": "execute_result"
    }
   ],
   "source": [
    "c[0,1,:]"
   ]
  },
  {
   "cell_type": "markdown",
   "id": "1a7278b3",
   "metadata": {},
   "source": [
    "## Initializing different type of arrays"
   ]
  },
  {
   "cell_type": "code",
   "execution_count": 48,
   "id": "53aa60aa",
   "metadata": {},
   "outputs": [
    {
     "data": {
      "text/plain": [
       "array([0., 0.])"
      ]
     },
     "execution_count": 48,
     "metadata": {},
     "output_type": "execute_result"
    }
   ],
   "source": [
    "# all 0 arrays\n",
    "np.zeros(2)\n",
    "# inside the bracket we place the shape of array\n"
   ]
  },
  {
   "cell_type": "code",
   "execution_count": 49,
   "id": "50b8d155",
   "metadata": {},
   "outputs": [
    {
     "data": {
      "text/plain": [
       "array([[0., 0., 0.],\n",
       "       [0., 0., 0.]])"
      ]
     },
     "execution_count": 49,
     "metadata": {},
     "output_type": "execute_result"
    }
   ],
   "source": [
    "np.zeros((2,3))\n",
    "#shape = 2 rows, 3 col"
   ]
  },
  {
   "cell_type": "code",
   "execution_count": 50,
   "id": "a9c2dc91",
   "metadata": {},
   "outputs": [
    {
     "data": {
      "text/plain": [
       "array([1., 1.])"
      ]
     },
     "execution_count": 50,
     "metadata": {},
     "output_type": "execute_result"
    }
   ],
   "source": [
    "# for all 1 array\n",
    "np.ones(2)"
   ]
  },
  {
   "cell_type": "code",
   "execution_count": 53,
   "id": "9723ba11",
   "metadata": {},
   "outputs": [
    {
     "data": {
      "text/plain": [
       "array([[99., 99., 99.],\n",
       "       [99., 99., 99.]], dtype=float32)"
      ]
     },
     "execution_count": 53,
     "metadata": {},
     "output_type": "execute_result"
    }
   ],
   "source": [
    "# for any other number, takes 2 parameters- shape and value\n",
    "np.full((2,3), 99, dtype='float32')"
   ]
  },
  {
   "cell_type": "code",
   "execution_count": 55,
   "id": "42ed2f1d",
   "metadata": {},
   "outputs": [
    {
     "data": {
      "text/plain": [
       "array([[99, 99, 99, 99, 99, 99, 99],\n",
       "       [99, 99, 99, 99, 99, 99, 99]])"
      ]
     },
     "execution_count": 55,
     "metadata": {},
     "output_type": "execute_result"
    }
   ],
   "source": [
    "np.full_like(a,99)\n",
    "#the full like fn uses the shape of a pre defined matrix for the new matrix"
   ]
  },
  {
   "cell_type": "code",
   "execution_count": 56,
   "id": "100f11cf",
   "metadata": {},
   "outputs": [
    {
     "data": {
      "text/plain": [
       "array([[0.60992611, 0.24618483, 0.61139362],\n",
       "       [0.06361254, 0.4182406 , 0.51292712]])"
      ]
     },
     "execution_count": 56,
     "metadata": {},
     "output_type": "execute_result"
    }
   ],
   "source": [
    "#using random numbers here\n",
    "np.random.rand(2,3)"
   ]
  },
  {
   "cell_type": "code",
   "execution_count": 62,
   "id": "d937b7f8",
   "metadata": {},
   "outputs": [
    {
     "data": {
      "text/plain": [
       "array([[4, 3, 6],\n",
       "       [5, 5, 4]])"
      ]
     },
     "execution_count": 62,
     "metadata": {},
     "output_type": "execute_result"
    }
   ],
   "source": [
    "#using random int values\n",
    "#random.randint(low, high=None, size=None, dtype=int)\n",
    "#Return random integers from low (inclusive) to high (exclusive)\n",
    "\n",
    "np.random.randint(3,7, size = (2,3))"
   ]
  },
  {
   "cell_type": "code",
   "execution_count": 63,
   "id": "b8c0684a",
   "metadata": {},
   "outputs": [
    {
     "data": {
      "text/plain": [
       "array([[1., 0., 0.],\n",
       "       [0., 1., 0.],\n",
       "       [0., 0., 1.]])"
      ]
     },
     "execution_count": 63,
     "metadata": {},
     "output_type": "execute_result"
    }
   ],
   "source": [
    "#identity matrix\n",
    "np.identity(3)"
   ]
  },
  {
   "cell_type": "code",
   "execution_count": 64,
   "id": "18e1e4d7",
   "metadata": {},
   "outputs": [
    {
     "data": {
      "text/plain": [
       "array([3, 3, 3, 3])"
      ]
     },
     "execution_count": 64,
     "metadata": {},
     "output_type": "execute_result"
    }
   ],
   "source": [
    "#used for repeating an array (shape_like, repats, axis)\n",
    "np.repeat(3, 4)"
   ]
  },
  {
   "cell_type": "code",
   "execution_count": 65,
   "id": "bc3db261",
   "metadata": {},
   "outputs": [
    {
     "data": {
      "text/plain": [
       "array([1, 1, 2, 2, 3, 3, 4, 4])"
      ]
     },
     "execution_count": 65,
     "metadata": {},
     "output_type": "execute_result"
    }
   ],
   "source": [
    "x = np.array([[1,2],[3,4]])\n",
    "np.repeat(x, 2)"
   ]
  },
  {
   "cell_type": "code",
   "execution_count": 67,
   "id": "14dccbfa",
   "metadata": {},
   "outputs": [
    {
     "data": {
      "text/plain": [
       "array([[1, 1, 1, 2, 2, 2],\n",
       "       [3, 3, 3, 4, 4, 4]])"
      ]
     },
     "execution_count": 67,
     "metadata": {},
     "output_type": "execute_result"
    }
   ],
   "source": [
    "np.repeat(x, 3, axis=1)"
   ]
  },
  {
   "cell_type": "code",
   "execution_count": 68,
   "id": "544d7dcf",
   "metadata": {},
   "outputs": [
    {
     "data": {
      "text/plain": [
       "array([[1, 2],\n",
       "       [3, 4],\n",
       "       [3, 4]])"
      ]
     },
     "execution_count": 68,
     "metadata": {},
     "output_type": "execute_result"
    }
   ],
   "source": [
    "np.repeat(x, [1, 2], axis=0)"
   ]
  },
  {
   "cell_type": "code",
   "execution_count": 76,
   "id": "b30b5547",
   "metadata": {},
   "outputs": [
    {
     "name": "stdout",
     "output_type": "stream",
     "text": [
      "[[1. 1. 1. 1. 1.]\n",
      " [1. 1. 1. 1. 1.]\n",
      " [1. 1. 1. 1. 1.]\n",
      " [1. 1. 1. 1. 1.]\n",
      " [1. 1. 1. 1. 1.]]\n"
     ]
    }
   ],
   "source": [
    "a = np.ones((5,5))\n",
    "print(a)"
   ]
  },
  {
   "cell_type": "code",
   "execution_count": 80,
   "id": "2724ece8",
   "metadata": {},
   "outputs": [
    {
     "name": "stdout",
     "output_type": "stream",
     "text": [
      "[[0. 0. 0.]\n",
      " [0. 0. 0.]\n",
      " [0. 0. 0.]]\n",
      "[[0. 0. 0.]\n",
      " [0. 9. 0.]\n",
      " [0. 0. 0.]]\n"
     ]
    }
   ],
   "source": [
    "b = np.zeros((3,3))\n",
    "print(b)\n",
    "b[1,1]=9\n",
    "print(b)\n",
    "a[1:4,1:4] = b"
   ]
  },
  {
   "cell_type": "code",
   "execution_count": 81,
   "id": "1ee9377f",
   "metadata": {},
   "outputs": [
    {
     "name": "stdout",
     "output_type": "stream",
     "text": [
      "[[1. 1. 1. 1. 1.]\n",
      " [1. 0. 0. 0. 1.]\n",
      " [1. 0. 9. 0. 1.]\n",
      " [1. 0. 0. 0. 1.]\n",
      " [1. 1. 1. 1. 1.]]\n"
     ]
    }
   ],
   "source": [
    "print(a)"
   ]
  },
  {
   "cell_type": "markdown",
   "id": "f8753094",
   "metadata": {},
   "source": [
    "### in case of copying arrays"
   ]
  },
  {
   "cell_type": "code",
   "execution_count": 83,
   "id": "9b712cc8",
   "metadata": {},
   "outputs": [
    {
     "data": {
      "text/plain": [
       "array([1, 2, 3])"
      ]
     },
     "execution_count": 83,
     "metadata": {},
     "output_type": "execute_result"
    }
   ],
   "source": [
    "a = np.array([1,2,3])\n",
    "a"
   ]
  },
  {
   "cell_type": "code",
   "execution_count": 84,
   "id": "09ef49dd",
   "metadata": {},
   "outputs": [
    {
     "data": {
      "text/plain": [
       "array([1, 2, 3])"
      ]
     },
     "execution_count": 84,
     "metadata": {},
     "output_type": "execute_result"
    }
   ],
   "source": [
    "b=a\n",
    "b"
   ]
  },
  {
   "cell_type": "code",
   "execution_count": 85,
   "id": "a5f5b993",
   "metadata": {},
   "outputs": [
    {
     "data": {
      "text/plain": [
       "array([ 1, 99,  3])"
      ]
     },
     "execution_count": 85,
     "metadata": {},
     "output_type": "execute_result"
    }
   ],
   "source": [
    "b[1]=99\n",
    "b"
   ]
  },
  {
   "cell_type": "code",
   "execution_count": 86,
   "id": "036953bb",
   "metadata": {},
   "outputs": [
    {
     "data": {
      "text/plain": [
       "array([ 1, 99,  3])"
      ]
     },
     "execution_count": 86,
     "metadata": {},
     "output_type": "execute_result"
    }
   ],
   "source": [
    "#here is the issue and to avoid it we use .copy() function\n",
    "a"
   ]
  },
  {
   "cell_type": "code",
   "execution_count": 89,
   "id": "4dc0487f",
   "metadata": {},
   "outputs": [
    {
     "data": {
      "text/plain": [
       "array([ 1, 98,  3])"
      ]
     },
     "execution_count": 89,
     "metadata": {},
     "output_type": "execute_result"
    }
   ],
   "source": [
    "c = a.copy()\n",
    "c[1] = 98\n",
    "c"
   ]
  },
  {
   "cell_type": "code",
   "execution_count": 88,
   "id": "3433a3ff",
   "metadata": {},
   "outputs": [
    {
     "data": {
      "text/plain": [
       "array([ 1, 99,  3])"
      ]
     },
     "execution_count": 88,
     "metadata": {},
     "output_type": "execute_result"
    }
   ],
   "source": [
    "a"
   ]
  },
  {
   "cell_type": "markdown",
   "id": "478def88",
   "metadata": {},
   "source": [
    "## Mathermatics"
   ]
  },
  {
   "cell_type": "markdown",
   "id": "81f0ae21",
   "metadata": {},
   "source": [
    "#### note that every operation we perform on an array is performed on each elment of the array"
   ]
  },
  {
   "cell_type": "code",
   "execution_count": 90,
   "id": "88b5ad8d",
   "metadata": {},
   "outputs": [
    {
     "data": {
      "text/plain": [
       "array([1, 1, 2])"
      ]
     },
     "execution_count": 90,
     "metadata": {},
     "output_type": "execute_result"
    }
   ],
   "source": [
    "a = np.array([1,1,2])\n",
    "a"
   ]
  },
  {
   "cell_type": "code",
   "execution_count": 92,
   "id": "44cd00d8",
   "metadata": {},
   "outputs": [
    {
     "data": {
      "text/plain": [
       "array([7, 7, 8])"
      ]
     },
     "execution_count": 92,
     "metadata": {},
     "output_type": "execute_result"
    }
   ],
   "source": [
    "a += 3\n",
    "a"
   ]
  },
  {
   "cell_type": "code",
   "execution_count": 93,
   "id": "83e002c4",
   "metadata": {},
   "outputs": [
    {
     "data": {
      "text/plain": [
       "array([5, 5, 6])"
      ]
     },
     "execution_count": 93,
     "metadata": {},
     "output_type": "execute_result"
    }
   ],
   "source": [
    "a - 2"
   ]
  },
  {
   "cell_type": "code",
   "execution_count": 94,
   "id": "8e48abab",
   "metadata": {},
   "outputs": [
    {
     "data": {
      "text/plain": [
       "array([49, 49, 64])"
      ]
     },
     "execution_count": 94,
     "metadata": {},
     "output_type": "execute_result"
    }
   ],
   "source": [
    "a**2"
   ]
  },
  {
   "cell_type": "code",
   "execution_count": 96,
   "id": "326e4d90",
   "metadata": {},
   "outputs": [
    {
     "data": {
      "text/plain": [
       "array([0.6569866 , 0.6569866 , 0.98935825])"
      ]
     },
     "execution_count": 96,
     "metadata": {},
     "output_type": "execute_result"
    }
   ],
   "source": [
    "np.sin(a)"
   ]
  },
  {
   "cell_type": "code",
   "execution_count": 97,
   "id": "c2bc28de",
   "metadata": {},
   "outputs": [
    {
     "data": {
      "text/plain": [
       "array([ 0.75390225,  0.75390225, -0.14550003])"
      ]
     },
     "execution_count": 97,
     "metadata": {},
     "output_type": "execute_result"
    }
   ],
   "source": [
    "np.cos(a)"
   ]
  },
  {
   "cell_type": "markdown",
   "id": "7d41af3a",
   "metadata": {},
   "source": [
    "## Linear Alebra"
   ]
  },
  {
   "cell_type": "markdown",
   "id": "27e0fa30",
   "metadata": {},
   "source": [
    "#### Matrix Multiply( matmul() )"
   ]
  },
  {
   "cell_type": "code",
   "execution_count": 105,
   "id": "ebe1d11f",
   "metadata": {},
   "outputs": [
    {
     "name": "stdout",
     "output_type": "stream",
     "text": [
      "[[1. 1. 1.]\n",
      " [1. 1. 1.]]\n",
      "[[2 2]\n",
      " [2 2]\n",
      " [2 2]]\n"
     ]
    },
    {
     "data": {
      "text/plain": [
       "array([[6., 6.],\n",
       "       [6., 6.]])"
      ]
     },
     "execution_count": 105,
     "metadata": {},
     "output_type": "execute_result"
    }
   ],
   "source": [
    "#matrix multiply\n",
    "a = np.ones((2,3))\n",
    "print(a)\n",
    "b = np.full((3,2), 2)\n",
    "print(b)\n",
    "\n",
    "np.matmul(a,b)\n"
   ]
  },
  {
   "cell_type": "markdown",
   "id": "78d235fd",
   "metadata": {},
   "source": [
    "#### Finding Determinant of a matrix"
   ]
  },
  {
   "cell_type": "code",
   "execution_count": 108,
   "id": "7dbb0e3b",
   "metadata": {},
   "outputs": [
    {
     "name": "stdout",
     "output_type": "stream",
     "text": [
      "[[1. 0. 0.]\n",
      " [0. 1. 0.]\n",
      " [0. 0. 1.]]\n"
     ]
    },
    {
     "data": {
      "text/plain": [
       "1.0"
      ]
     },
     "execution_count": 108,
     "metadata": {},
     "output_type": "execute_result"
    }
   ],
   "source": [
    "a = np.identity(3)\n",
    "print(a)\n",
    "\n",
    "#determinant fn = np.linalg.det()\n",
    "\n",
    "np.linalg.det(a)"
   ]
  },
  {
   "cell_type": "code",
   "execution_count": 109,
   "id": "359e55dd",
   "metadata": {},
   "outputs": [],
   "source": [
    "## Reference docs (https://docs.scipy.org/doc/numpy/reference/routines.linalg.html)"
   ]
  },
  {
   "cell_type": "markdown",
   "id": "699a53ec",
   "metadata": {},
   "source": [
    "### Statistics"
   ]
  },
  {
   "cell_type": "code",
   "execution_count": 111,
   "id": "08916bb8",
   "metadata": {},
   "outputs": [
    {
     "data": {
      "text/plain": [
       "array([[1, 2, 3],\n",
       "       [4, 5, 6]])"
      ]
     },
     "execution_count": 111,
     "metadata": {},
     "output_type": "execute_result"
    }
   ],
   "source": [
    "a = np.array([[1,2,3],[4,5,6]])\n",
    "a"
   ]
  },
  {
   "cell_type": "code",
   "execution_count": 112,
   "id": "1910a3fd",
   "metadata": {},
   "outputs": [
    {
     "data": {
      "text/plain": [
       "1"
      ]
     },
     "execution_count": 112,
     "metadata": {},
     "output_type": "execute_result"
    }
   ],
   "source": [
    "#when we find the min among all elements\n",
    "np.min(a)"
   ]
  },
  {
   "cell_type": "code",
   "execution_count": 113,
   "id": "95005a26",
   "metadata": {},
   "outputs": [
    {
     "data": {
      "text/plain": [
       "array([1, 4])"
      ]
     },
     "execution_count": 113,
     "metadata": {},
     "output_type": "execute_result"
    }
   ],
   "source": [
    "#when we find min row wise\n",
    "\n",
    "np.min(a, axis =1)"
   ]
  },
  {
   "cell_type": "code",
   "execution_count": 114,
   "id": "a34ecfaa",
   "metadata": {},
   "outputs": [
    {
     "data": {
      "text/plain": [
       "6"
      ]
     },
     "execution_count": 114,
     "metadata": {},
     "output_type": "execute_result"
    }
   ],
   "source": [
    "#finding max\n",
    "np.max(a)"
   ]
  },
  {
   "cell_type": "code",
   "execution_count": 115,
   "id": "3d97c443",
   "metadata": {},
   "outputs": [
    {
     "data": {
      "text/plain": [
       "21"
      ]
     },
     "execution_count": 115,
     "metadata": {},
     "output_type": "execute_result"
    }
   ],
   "source": [
    "np.sum(a)"
   ]
  },
  {
   "cell_type": "code",
   "execution_count": 117,
   "id": "c0ba71b5",
   "metadata": {},
   "outputs": [
    {
     "data": {
      "text/plain": [
       "array([5, 7, 9])"
      ]
     },
     "execution_count": 117,
     "metadata": {},
     "output_type": "execute_result"
    }
   ],
   "source": [
    "#column elements sum\n",
    "\n",
    "np.sum(a, axis =0)"
   ]
  },
  {
   "cell_type": "code",
   "execution_count": 118,
   "id": "3e0e98c6",
   "metadata": {},
   "outputs": [
    {
     "data": {
      "text/plain": [
       "array([ 6, 15])"
      ]
     },
     "execution_count": 118,
     "metadata": {},
     "output_type": "execute_result"
    }
   ],
   "source": [
    "#row elements sum\n",
    "\n",
    "np.sum(a, axis =1)"
   ]
  },
  {
   "cell_type": "markdown",
   "id": "ca489023",
   "metadata": {},
   "source": [
    "### Reorganizing arrays- (using reshape function)"
   ]
  },
  {
   "cell_type": "code",
   "execution_count": 124,
   "id": "52aaa77b",
   "metadata": {},
   "outputs": [
    {
     "name": "stdout",
     "output_type": "stream",
     "text": [
      "[[1 2 3 4]\n",
      " [5 6 7 8]]\n",
      "[[1]\n",
      " [2]\n",
      " [3]\n",
      " [4]\n",
      " [5]\n",
      " [6]\n",
      " [7]\n",
      " [8]]\n"
     ]
    }
   ],
   "source": [
    "before = np.array([[1,2,3,4],[5,6,7,8]])\n",
    "print(before)\n",
    "\n",
    "after = before.reshape((8,1))\n",
    "print(after)"
   ]
  },
  {
   "cell_type": "markdown",
   "id": "f0d47a0e",
   "metadata": {},
   "source": [
    "#### horizontal and vertical stacking of vectors"
   ]
  },
  {
   "cell_type": "code",
   "execution_count": 129,
   "id": "aeef0795",
   "metadata": {},
   "outputs": [
    {
     "data": {
      "text/plain": [
       "array([1, 2, 3, 4, 2, 3, 4, 5])"
      ]
     },
     "execution_count": 129,
     "metadata": {},
     "output_type": "execute_result"
    }
   ],
   "source": [
    "#hstack for horizontal and vstack for vertical\n",
    "\n",
    "a = np.array([1,2,3,4])\n",
    "b = np.array([2,3,4,5])\n",
    "\n",
    "np.hstack((a,b))"
   ]
  },
  {
   "cell_type": "code",
   "execution_count": 128,
   "id": "c8b20ccd",
   "metadata": {},
   "outputs": [
    {
     "data": {
      "text/plain": [
       "array([[2, 3, 4, 5],\n",
       "       [1, 2, 3, 4]])"
      ]
     },
     "execution_count": 128,
     "metadata": {},
     "output_type": "execute_result"
    }
   ],
   "source": [
    "np.vstack((b,a))"
   ]
  },
  {
   "cell_type": "code",
   "execution_count": 130,
   "id": "0f9c3b0f",
   "metadata": {},
   "outputs": [
    {
     "data": {
      "text/plain": [
       "array([[2, 3, 4, 5],\n",
       "       [1, 2, 3, 4],\n",
       "       [1, 2, 3, 4],\n",
       "       [2, 3, 4, 5]])"
      ]
     },
     "execution_count": 130,
     "metadata": {},
     "output_type": "execute_result"
    }
   ],
   "source": [
    "np.vstack((b,a,a,b))"
   ]
  },
  {
   "cell_type": "code",
   "execution_count": null,
   "id": "2a767f3b",
   "metadata": {},
   "outputs": [],
   "source": []
  }
 ],
 "metadata": {
  "kernelspec": {
   "display_name": "Python 3 (ipykernel)",
   "language": "python",
   "name": "python3"
  },
  "language_info": {
   "codemirror_mode": {
    "name": "ipython",
    "version": 3
   },
   "file_extension": ".py",
   "mimetype": "text/x-python",
   "name": "python",
   "nbconvert_exporter": "python",
   "pygments_lexer": "ipython3",
   "version": "3.11.5"
  }
 },
 "nbformat": 4,
 "nbformat_minor": 5
}
